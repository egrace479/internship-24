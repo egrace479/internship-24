{
  "cells": [
    {
      "cell_type": "markdown",
      "metadata": {
        "id": "rRJtCYY5LHoF"
      },
      "source": [
        "# Intro to pandas"
      ]
    },
    {
      "cell_type": "markdown",
      "metadata": {
        "id": "wQHuMczdLHHt"
      },
      "source": [
        "**Learning Objectives:**\n",
        "  * Gain an introduction to the `DataFrame` and `Series` data structures of the *pandas* library\n",
        "  * Access and manipulate data within a `DataFrame` and `Series`\n",
        "  * Import CSV data into a *pandas* `DataFrame`\n",
        "  * Reindex a `DataFrame` to shuffle data"
      ]
    },
    {
      "cell_type": "markdown",
      "metadata": {
        "id": "X2HuuKE4LUl7"
      },
      "source": [
        "The primary data structures in *pandas* are implemented as two classes:\n",
        "\n",
        "  * **`DataFrame`**, which you can imagine as a relational data table, with rows and named columns.\n",
        "  * **`Series`**, which is a single column. A `DataFrame` contains one or more `Series` and a name for each `Series`. It is a one-dimensional labeled array capable of holding any data type(integers, strings, floating point numbers, Python objects, etc.)"
      ]
    },
    {
      "cell_type": "markdown",
      "metadata": {
        "id": "ZA3J2scSMdV5"
      },
      "source": [
        "## Import NumPy and pandas modules\n",
        "Run the following code cell to import the NumPy and pandas modules."
      ]
    },
    {
      "cell_type": "code",
      "execution_count": null,
      "metadata": {
        "id": "wNDn1WbxMkuu"
      },
      "outputs": [],
      "source": [
        "import numpy as np\n",
        "import pandas as pd"
      ]
    },
    {
      "cell_type": "markdown",
      "metadata": {
        "id": "lzdknhj2Lm-5"
      },
      "source": [
        "One way to create a `Series` is to construct a `Series` object. For example:\n"
      ]
    },
    {
      "cell_type": "code",
      "execution_count": null,
      "metadata": {
        "colab": {
          "base_uri": "https://localhost:8080/"
        },
        "id": "ddu-UldkLmTP",
        "outputId": "903bdf29-a90e-4f9d-aaf9-f0050eafc344"
      },
      "outputs": [
        {
          "data": {
            "text/plain": [
              "0    San Francisco\n",
              "1         San Jose\n",
              "2        Cleveland\n",
              "dtype: object"
            ]
          },
          "execution_count": 2,
          "metadata": {},
          "output_type": "execute_result"
        }
      ],
      "source": [
        "pd.Series(['San Francisco', 'San Jose', 'Cleveland'])"
      ]
    },
    {
      "cell_type": "markdown",
      "metadata": {
        "id": "09hZdkmBM9Ue"
      },
      "source": [
        "## Creating a DataFrame\n",
        "\n",
        "The following code cell creates a simple DataFrame containing 6 cells organized as follows:\n",
        "\n",
        "  * 3 rows\n",
        "  * 2 columns, one named `city_names` and the other named `population`\n",
        "\n",
        "  * The first arguments provides 3 string as `series` object, the second argument provides 3 integer as `series`\n",
        "  * The third argument establishes `Dataframe` object by passing a `dict` mapping `string` column names to their respective `Series`."
      ]
    },
    {
      "cell_type": "code",
      "execution_count": null,
      "metadata": {
        "colab": {
          "base_uri": "https://localhost:8080/",
          "height": 143
        },
        "id": "1AMLbcihSir_",
        "outputId": "e6b3a097-b2d8-4fd1-e144-9794263453d5"
      },
      "outputs": [
        {
          "data": {
            "text/html": [
              "\n",
              "  <div id=\"df-fc8c73db-f935-4331-83e9-3ff9aef54857\">\n",
              "    <div class=\"colab-df-container\">\n",
              "      <div>\n",
              "<style scoped>\n",
              "    .dataframe tbody tr th:only-of-type {\n",
              "        vertical-align: middle;\n",
              "    }\n",
              "\n",
              "    .dataframe tbody tr th {\n",
              "        vertical-align: top;\n",
              "    }\n",
              "\n",
              "    .dataframe thead th {\n",
              "        text-align: right;\n",
              "    }\n",
              "</style>\n",
              "<table border=\"1\" class=\"dataframe\">\n",
              "  <thead>\n",
              "    <tr style=\"text-align: right;\">\n",
              "      <th></th>\n",
              "      <th>City name</th>\n",
              "      <th>Population</th>\n",
              "    </tr>\n",
              "  </thead>\n",
              "  <tbody>\n",
              "    <tr>\n",
              "      <th>0</th>\n",
              "      <td>San Francisco</td>\n",
              "      <td>852469</td>\n",
              "    </tr>\n",
              "    <tr>\n",
              "      <th>1</th>\n",
              "      <td>San Jose</td>\n",
              "      <td>1015785</td>\n",
              "    </tr>\n",
              "    <tr>\n",
              "      <th>2</th>\n",
              "      <td>Sacramento</td>\n",
              "      <td>485199</td>\n",
              "    </tr>\n",
              "  </tbody>\n",
              "</table>\n",
              "</div>\n",
              "      <button class=\"colab-df-convert\" onclick=\"convertToInteractive('df-fc8c73db-f935-4331-83e9-3ff9aef54857')\"\n",
              "              title=\"Convert this dataframe to an interactive table.\"\n",
              "              style=\"display:none;\">\n",
              "        \n",
              "  <svg xmlns=\"http://www.w3.org/2000/svg\" height=\"24px\"viewBox=\"0 0 24 24\"\n",
              "       width=\"24px\">\n",
              "    <path d=\"M0 0h24v24H0V0z\" fill=\"none\"/>\n",
              "    <path d=\"M18.56 5.44l.94 2.06.94-2.06 2.06-.94-2.06-.94-.94-2.06-.94 2.06-2.06.94zm-11 1L8.5 8.5l.94-2.06 2.06-.94-2.06-.94L8.5 2.5l-.94 2.06-2.06.94zm10 10l.94 2.06.94-2.06 2.06-.94-2.06-.94-.94-2.06-.94 2.06-2.06.94z\"/><path d=\"M17.41 7.96l-1.37-1.37c-.4-.4-.92-.59-1.43-.59-.52 0-1.04.2-1.43.59L10.3 9.45l-7.72 7.72c-.78.78-.78 2.05 0 2.83L4 21.41c.39.39.9.59 1.41.59.51 0 1.02-.2 1.41-.59l7.78-7.78 2.81-2.81c.8-.78.8-2.07 0-2.86zM5.41 20L4 18.59l7.72-7.72 1.47 1.35L5.41 20z\"/>\n",
              "  </svg>\n",
              "      </button>\n",
              "      \n",
              "  <style>\n",
              "    .colab-df-container {\n",
              "      display:flex;\n",
              "      flex-wrap:wrap;\n",
              "      gap: 12px;\n",
              "    }\n",
              "\n",
              "    .colab-df-convert {\n",
              "      background-color: #E8F0FE;\n",
              "      border: none;\n",
              "      border-radius: 50%;\n",
              "      cursor: pointer;\n",
              "      display: none;\n",
              "      fill: #1967D2;\n",
              "      height: 32px;\n",
              "      padding: 0 0 0 0;\n",
              "      width: 32px;\n",
              "    }\n",
              "\n",
              "    .colab-df-convert:hover {\n",
              "      background-color: #E2EBFA;\n",
              "      box-shadow: 0px 1px 2px rgba(60, 64, 67, 0.3), 0px 1px 3px 1px rgba(60, 64, 67, 0.15);\n",
              "      fill: #174EA6;\n",
              "    }\n",
              "\n",
              "    [theme=dark] .colab-df-convert {\n",
              "      background-color: #3B4455;\n",
              "      fill: #D2E3FC;\n",
              "    }\n",
              "\n",
              "    [theme=dark] .colab-df-convert:hover {\n",
              "      background-color: #434B5C;\n",
              "      box-shadow: 0px 1px 3px 1px rgba(0, 0, 0, 0.15);\n",
              "      filter: drop-shadow(0px 1px 2px rgba(0, 0, 0, 0.3));\n",
              "      fill: #FFFFFF;\n",
              "    }\n",
              "  </style>\n",
              "\n",
              "      <script>\n",
              "        const buttonEl =\n",
              "          document.querySelector('#df-fc8c73db-f935-4331-83e9-3ff9aef54857 button.colab-df-convert');\n",
              "        buttonEl.style.display =\n",
              "          google.colab.kernel.accessAllowed ? 'block' : 'none';\n",
              "\n",
              "        async function convertToInteractive(key) {\n",
              "          const element = document.querySelector('#df-fc8c73db-f935-4331-83e9-3ff9aef54857');\n",
              "          const dataTable =\n",
              "            await google.colab.kernel.invokeFunction('convertToInteractive',\n",
              "                                                     [key], {});\n",
              "          if (!dataTable) return;\n",
              "\n",
              "          const docLinkHtml = 'Like what you see? Visit the ' +\n",
              "            '<a target=\"_blank\" href=https://colab.research.google.com/notebooks/data_table.ipynb>data table notebook</a>'\n",
              "            + ' to learn more about interactive tables.';\n",
              "          element.innerHTML = '';\n",
              "          dataTable['output_type'] = 'display_data';\n",
              "          await google.colab.output.renderOutput(dataTable, element);\n",
              "          const docLink = document.createElement('div');\n",
              "          docLink.innerHTML = docLinkHtml;\n",
              "          element.appendChild(docLink);\n",
              "        }\n",
              "      </script>\n",
              "    </div>\n",
              "  </div>\n",
              "  "
            ],
            "text/plain": [
              "       City name  Population\n",
              "0  San Francisco      852469\n",
              "1       San Jose     1015785\n",
              "2     Sacramento      485199"
            ]
          },
          "execution_count": 3,
          "metadata": {},
          "output_type": "execute_result"
        }
      ],
      "source": [
        "city_names = pd.Series(['San Francisco', 'San Jose', 'Sacramento'])\n",
        "population = pd.Series([852469, 1015785, 485199])\n",
        "\n",
        "pd.DataFrame({ 'City name': city_names, 'Population': population })"
      ]
    },
    {
      "cell_type": "markdown",
      "metadata": {
        "id": "WKtT69hcUMbj"
      },
      "source": [
        "##Load CSV file using pandas\n",
        "* To access data from the CSV file, we require a function `read_csv()`that retrieves data in the form of the data frame.\n",
        "* The example below used `DataFrame.describe` to show interesting statistics analysis about the features in `DataFrame`.\n",
        "* Another useful function is `DataFrame.head`, which displays the first 5 records of a `DataFrame`"
      ]
    },
    {
      "cell_type": "code",
      "execution_count": null,
      "metadata": {
        "id": "EYB2G2yeVBQC"
      },
      "outputs": [],
      "source": [
        "california_housing_dataframe = pd.read_csv(\"https://download.mlcc.google.com/mledu-datasets/california_housing_train.csv\", sep=\",\")\n",
        "california_housing_dataframe.describe()"
      ]
    },
    {
      "cell_type": "code",
      "execution_count": null,
      "metadata": {
        "id": "GagPwbyeVjzE"
      },
      "outputs": [],
      "source": [
        "california_housing_dataframe.head()"
      ]
    },
    {
      "cell_type": "markdown",
      "metadata": {
        "id": "CaRxL5WqW14j"
      },
      "source": [
        "## Specifying a subset of a DataFrame\n",
        "\n",
        "Pandas provide multiples ways to isolate specific rows, columns, slices or cells in a DataFrame.\n"
      ]
    },
    {
      "cell_type": "code",
      "execution_count": null,
      "metadata": {
        "id": "YKxH-uY9W8yq"
      },
      "outputs": [],
      "source": [
        "\n",
        "#extract the certain row (in this example is row 3) as a dataframe, you could also consider this is a subset of original dataframe\n",
        "print(california_housing_dataframe.iloc[[2]], '\\n')\n",
        "\n",
        "#extract the row records from the second row to the fifth row\n",
        "print(california_housing_dataframe[1:4], '\\n')\n",
        "\n",
        "#extract the certain column to isolate it with the column name 'population'\n",
        "print(\"Column 'population':\")\n",
        "print(california_housing_dataframe['population'])"
      ]
    },
    {
      "cell_type": "markdown",
      "metadata": {
        "id": "LjD1MIAMZRs6"
      },
      "source": [
        "## Manipulating data\n",
        "* `drop` function used to remove the nonsensiable column\n",
        "* you can use `Series.apply`,\n",
        "`Series.apply` accepts as an argument a [lambda function](https://docs.python.org/2/tutorial/controlflow.html#lambda-expressions), which is applied to each value.\n"
      ]
    },
    {
      "cell_type": "code",
      "execution_count": null,
      "metadata": {
        "id": "1SWZecYOaCUA"
      },
      "outputs": [],
      "source": [
        "#remove the column 'longitude' and 'latitude'\n",
        "df_dropped_california_housing = california_housing_dataframe.drop(['longitude', 'latitude'], axis=1)\n",
        "print(df_dropped_california_housing.head())"
      ]
    },
    {
      "cell_type": "code",
      "execution_count": null,
      "metadata": {
        "id": "si4Do8nqbX97"
      },
      "outputs": [],
      "source": [
        "# it could select the record that the poopulation is greater than 1000.\n",
        "california_housing_dataframe[california_housing_dataframe['population'].apply(lambda val: val > 1000)]"
      ]
    },
    {
      "cell_type": "markdown",
      "metadata": {
        "id": "13wid4b8g0TA"
      },
      "source": [
        "## Copying a DataFrame\n",
        "* **Copying.** If you call the `pd.DataFrame.copy` method, you create a true independent copy.  Changes to the original DataFrame or to the copy will not be reflected in the other. It means that you could not affect the original dataframe.\n"
      ]
    },
    {
      "cell_type": "code",
      "execution_count": null,
      "metadata": {
        "id": "5S2h6j6WbQLf"
      },
      "outputs": [],
      "source": [
        "# Create a true copy of\n",
        "print(\"Experiment with a true copy:\")\n",
        "copy_of_california_housing = california_housing_dataframe.copy()\n",
        "# Modify a cell in california_housing_dataframe\n",
        "california_housing_dataframe = california_housing_dataframe.drop(['longitude', 'latitude'], axis=1)\n",
        "print(copy_of_california_housing)\n",
        "print(california_housing_dataframe)"
      ]
    },
    {
      "cell_type": "markdown",
      "metadata": {
        "id": "AqYG672PlN6-"
      },
      "source": [
        "# Intro to visualization\n",
        "* The introduction of Package to make the visualization in python\n",
        "* Different plot style\n"
      ]
    },
    {
      "cell_type": "markdown",
      "metadata": {
        "id": "Bxw4h0AqlnPB"
      },
      "source": [
        "## Matplotliab and Seaborn\n",
        "* `Matplotlib` is a visualization library in Python for 2D plots of arrays. `Matplotlib` is written in Python and makes use of the NumPy library. Matplotlib is specifically suitable for creating basic graphs like line charts, bar charts, histograms, etc.\n",
        "* `Seaborn` is a dataset-oriented library for making statistical representations in Python."
      ]
    },
    {
      "cell_type": "markdown",
      "metadata": {
        "id": "B3qeagetOI-D"
      },
      "source": [
        "## Import the modules"
      ]
    },
    {
      "cell_type": "code",
      "execution_count": null,
      "metadata": {
        "id": "-RGuL0Srnwpb"
      },
      "outputs": [],
      "source": [
        "import matplotlib.pyplot as plt\n",
        "import seaborn as sns"
      ]
    },
    {
      "cell_type": "markdown",
      "metadata": {
        "id": "keQwGno6OFM8"
      },
      "source": [
        "## Histogram"
      ]
    },
    {
      "cell_type": "markdown",
      "metadata": {
        "id": "K7JsmVJXoPR3"
      },
      "source": [
        "To create a histgram plot in Matplotlib, we can use the `hist` method. We will also create a figure and an axis using `plt.subplots` to give our plot a title and labels."
      ]
    },
    {
      "cell_type": "code",
      "execution_count": null,
      "metadata": {
        "id": "TxXMZxW5xyM7"
      },
      "outputs": [],
      "source": [
        "# create figure and axis\n",
        "fig, ax = plt.subplots()\n",
        "# plot histogram\n",
        "ax.hist(california_housing_dataframe['housing_median_age'])\n",
        "# set title and labels\n",
        "ax.set_title('Housing median age Distribution')\n",
        "ax.set_xlabel('Housing median age')\n",
        "ax.set_ylabel('Frequency')"
      ]
    },
    {
      "cell_type": "markdown",
      "metadata": {
        "id": "dr-0b3z3OBtQ"
      },
      "source": [
        "## Bar Plot"
      ]
    },
    {
      "cell_type": "markdown",
      "metadata": {
        "id": "7wBgwDSG0tsa"
      },
      "source": [
        "A bar chart can be created using the bar method. The `bar` chart isn’t automatically calculating the frequency of a category, so we will use pandas `value_count` method to do this. The bar chart is useful for categorical data that doesn’t have a lot of different categories (less than 30) because else it can get quite messy.\n",
        "\n"
      ]
    },
    {
      "cell_type": "code",
      "execution_count": null,
      "metadata": {
        "id": "gkana3B82WJR"
      },
      "outputs": [],
      "source": [
        "# create a figure and axis\n",
        "fig, ax = plt.subplots()\n",
        "# count the occurrence of each class\n",
        "data = california_housing_dataframe['housing_median_age'].value_counts()\n",
        "# get x and y data\n",
        "age = data.index\n",
        "frequency = data.values\n",
        "# create bar chart\n",
        "ax.bar(age, frequency)\n",
        "# set title and labels\n",
        "ax.set_title('Housing median age Distribution')\n",
        "ax.set_xlabel('Housing median age')\n",
        "ax.set_ylabel('Frequency')"
      ]
    },
    {
      "cell_type": "code",
      "execution_count": null,
      "metadata": {
        "id": "OpQn3Bjv4b5E"
      },
      "outputs": [],
      "source": [
        "iris = pd.read_csv('https://archive.ics.uci.edu/ml/machine-learning-databases/iris/iris.data',names=['sepal_length', 'sepal_width', 'petal_length', 'petal_width', 'class'])"
      ]
    },
    {
      "cell_type": "markdown",
      "metadata": {
        "id": "d1_l63BbN8Dt"
      },
      "source": [
        "## Scatter plot"
      ]
    },
    {
      "cell_type": "markdown",
      "metadata": {
        "id": "GBy7AFuM7Clc"
      },
      "source": [
        "To create a scatter plot in Matplotlib, we can use the `scatter` method. We will also create a figure and an axis using `plt.subplots` to give our plot a title and labels.\n",
        "\n",
        "Scatter plot show the correlation between x and y."
      ]
    },
    {
      "cell_type": "code",
      "execution_count": null,
      "metadata": {
        "id": "S0j9hIrU7TVK"
      },
      "outputs": [],
      "source": [
        "# create a figure and axis\n",
        "fig, ax = plt.subplots()\n",
        "\n",
        "# scatter the sepal_length against the sepal_width (x : sepal_length; y : sepal_width)\n",
        "ax.scatter(iris['sepal_length'], iris['sepal_width'])\n",
        "# set a title and labels\n",
        "ax.set_title('Iris Dataset')\n",
        "ax.set_xlabel('sepal_length')\n",
        "ax.set_ylabel('sepal_width')"
      ]
    },
    {
      "cell_type": "markdown",
      "metadata": {
        "id": "k6OawLSz8GiQ"
      },
      "source": [
        "We can give the graph more meaning by coloring each data point by its class. This can be done by creating a `dictionary` that maps from class to color and then scattering each point on its own using a for-loop and passing the respective color."
      ]
    },
    {
      "cell_type": "code",
      "execution_count": null,
      "metadata": {
        "id": "jeMQd_qJ8kw4"
      },
      "outputs": [],
      "source": [
        "# create color dictionary\n",
        "colors = {'Iris-setosa':'r', 'Iris-versicolor':'g', 'Iris-virginica':'y'}\n",
        "# create a figure and axis\n",
        "fig, ax = plt.subplots()\n",
        "# plot each data-point\n",
        "for i in range(len(iris['sepal_length'])):\n",
        "    ax.scatter(iris['sepal_length'][i], iris['sepal_width'][i],color=colors[iris['class'][i]])\n",
        "# set a title and labels\n",
        "ax.set_title('Iris Dataset')\n",
        "ax.set_xlabel('sepal_length')\n",
        "ax.set_ylabel('sepal_width')"
      ]
    },
    {
      "cell_type": "markdown",
      "metadata": {
        "id": "vK_0oYTnqRVq"
      },
      "source": [
        "## Line Plot\n",
        "\n",
        "x - the index of each record in the dataset\n",
        "\n",
        "y - respective value of each record in all columns shown in different colors. For example, the value of iris sepal_length in all the points are shown in blue.\n",
        "\n",
        "\n"
      ]
    },
    {
      "cell_type": "code",
      "execution_count": null,
      "metadata": {
        "id": "2fTtqydlGXIY"
      },
      "outputs": [],
      "source": [
        "# get columns to plot\n",
        "columns = iris.columns.drop(['class'])\n",
        "# create x data\n",
        "x_data = range(0, iris.shape[0])\n",
        "# create figure and axis\n",
        "fig, ax = plt.subplots()\n",
        "# plot each column\n",
        "for column in columns:\n",
        "    ax.plot(x_data, iris[column], label=column)\n",
        "# set title and legend\n",
        "ax.set_title('Iris Dataset')\n",
        "ax.set_xlabel('data point')\n",
        "ax.legend()"
      ]
    },
    {
      "cell_type": "markdown",
      "metadata": {
        "id": "cEXEA1taJ0Tx"
      },
      "source": [
        "## Heatmap\n",
        "Seaborn makes it way easier to create a heatmap and add annotations:\n",
        "\n",
        "A Heatmap is a graphical representation of data where the individual values contained in a matrix are represented as colors. Heatmaps are perfect for exploring the correlation of features in a dataset."
      ]
    },
    {
      "cell_type": "code",
      "execution_count": null,
      "metadata": {
        "id": "BmXpOQYqG7kV"
      },
      "outputs": [],
      "source": [
        "sns.heatmap(iris.corr(), annot=True)"
      ]
    }
  ],
  "metadata": {
    "colab": {
      "provenance": []
    },
    "kernelspec": {
      "display_name": "Python 3",
      "name": "python3"
    },
    "language_info": {
      "name": "python"
    }
  },
  "nbformat": 4,
  "nbformat_minor": 0
}
